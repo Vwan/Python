{
 "cells": [
  {
   "cell_type": "markdown",
   "metadata": {},
   "source": [
    "1 导入 spidercomm 和 BeautifulSoup 模块"
   ]
  },
  {
   "cell_type": "code",
   "execution_count": null,
   "metadata": {
    "collapsed": true
   },
   "outputs": [],
   "source": [
    "# -*- coding: utf-8 -*-\n",
    "import spidercomm as common\n",
    "from bs4 import BeautifulSoup"
   ]
  },
  {
   "cell_type": "markdown",
   "metadata": {},
   "source": [
    "2 使用BeautifulSoup 找到所有tag a,spidercomm 模块的爬取所有链接的方法会用到其返回值。"
   ]
  },
  {
   "cell_type": "code",
   "execution_count": null,
   "metadata": {
    "collapsed": true
   },
   "outputs": [],
   "source": [
    "# get all tags a from a single url\n",
    "def a_links(url_seed,attrs={}):\n",
    "    html = common.download(url_seed)\n",
    "    soup = BeautifulSoup(html,'html.parser')\n",
    "    alinks= soup.find_all('a',attrs)\n",
    "    return alinks"
   ]
  },
  {
   "cell_type": "markdown",
   "metadata": {},
   "source": [
    "3 使用BeautifulSoup 爬取某个url的页面，主要关注title和文章主体。"
   ]
  },
  {
   "cell_type": "code",
   "execution_count": null,
   "metadata": {
    "collapsed": true
   },
   "outputs": [],
   "source": [
    "def crawled_page(crawled_url):\n",
    "        html = common.download(crawled_url)\n",
    "        soup = BeautifulSoup(html,'html.parser')\n",
    "        title = soup.find('h1',{'class':'title'})\n",
    "        if title== None:\n",
    "            return \"Title_Is_None\",crawled_url\n",
    "        content = soup.find('div',{'class':'show-content'})\n",
    "        if content == None:\n",
    "            return title.text, \"Content_Is_None\"\n",
    "        return title.text,content.text"
   ]
  },
  {
   "cell_type": "markdown",
   "metadata": {},
   "source": [
    "4 判断是否分页"
   ]
  },
  {
   "cell_type": "code",
   "execution_count": null,
   "metadata": {
    "collapsed": true
   },
   "outputs": [],
   "source": [
    "def isMultiPaged(url):    \n",
    "    html_page1 = common.download(url % 1)\n",
    "    soup = BeautifulSoup(html_page1,'html.parser')\n",
    "    body1 = soup.find('body')   \n",
    "    body1.script.decompose()\n",
    "       \n",
    "    html_page2 = common.download(url % 2)\n",
    "    if html_page2 == None:\n",
    "        return False\n",
    "    soup = BeautifulSoup(html_page2,\"html.parser\")\n",
    "    body2 = soup.find('body')\n",
    "    #print [x.extract() for x in body2.findAll('script') ]\n",
    "    body2.script.decompose()\n",
    "    if str(body1) == str(body2):\n",
    "        return False\n",
    "    else:\n",
    "        return True"
   ]
  },
  {
   "cell_type": "markdown",
   "metadata": {},
   "source": [
    "5 获取所有分页数"
   ]
  },
  {
   "cell_type": "code",
   "execution_count": null,
   "metadata": {
    "collapsed": true
   },
   "outputs": [],
   "source": [
    "def getNumberOfPages(url):\n",
    "    count = 1\n",
    "    flag = True\n",
    "    if (isMultiPaged(url)):\n",
    "        while flag:\n",
    "            url= url % count\n",
    "            # print \"url: %s\" % url\n",
    "            count += 1\n",
    "            html = common.download(url)\n",
    "            if html==None:\n",
    "                break        \n",
    "    return count"
   ]
  }
 ],
 "metadata": {
  "kernelspec": {
   "display_name": "Python 2",
   "language": "python",
   "name": "python2"
  },
  "language_info": {
   "codemirror_mode": {
    "name": "ipython",
    "version": 2
   },
   "file_extension": ".py",
   "mimetype": "text/x-python",
   "name": "python",
   "nbconvert_exporter": "python",
   "pygments_lexer": "ipython2",
   "version": "2.7.13"
  }
 },
 "nbformat": 4,
 "nbformat_minor": 2
}
