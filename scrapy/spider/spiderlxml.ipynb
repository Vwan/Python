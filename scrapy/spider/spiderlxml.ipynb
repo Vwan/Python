{
 "cells": [
  {
   "cell_type": "markdown",
   "metadata": {},
   "source": [
    "1 导入spidercomm 和 spiderlxml 模块"
   ]
  },
  {
   "cell_type": "code",
   "execution_count": null,
   "metadata": {
    "collapsed": true
   },
   "outputs": [],
   "source": [
    "# -*- coding: utf-8 -*-\n",
    "import spidercomm as common\n",
    "import urlparse\n",
    "from lxml import etree\n"
   ]
  },
  {
   "cell_type": "markdown",
   "metadata": {},
   "source": [
    "2 设置所需的变量，创建输出结果路径"
   ]
  },
  {
   "cell_type": "code",
   "execution_count": null,
   "metadata": {
    "collapsed": true
   },
   "outputs": [],
   "source": [
    "\n",
    "# get all tags a from a single url\n",
    "def a_links(url_seed,attrs={}):\n",
    "    html = common.download(url_seed)\n",
    "    tree = etree.HTML(html)\n",
    "    alinks= tree.xpath(\"//a\")\n",
    "    return alinks\n",
    "\n"
   ]
  },
  {
   "cell_type": "markdown",
   "metadata": {},
   "source": [
    "3 调用spidercomm的getNumberOfPages方法，判断要爬取的页面是否分页"
   ]
  },
  {
   "cell_type": "code",
   "execution_count": null,
   "metadata": {
    "collapsed": true
   },
   "outputs": [],
   "source": [
    "def crawled_page(crawled_url):\n",
    "        html = common.download(crawled_url)\n",
    "        tree = etree.HTML(html)\n",
    "        title= tree.xpath(\"/html/body/div[1]/div[1]/div[1]/h1\")\n",
    "        if title == None or len(title) == 0:\n",
    "            return \"Title_Is_None\",crawled_url\n",
    "        contents = tree.xpath(\"/html/body/div[1]/div[1]/div[1]/div[2]/*\")\n",
    "        if contents == None or len(contents) ==0:\n",
    "            return title.text, \"Content_Is_None\"\n",
    "        content = ''\n",
    "        for x in contents:\n",
    "            if (x.text != None):\n",
    "                content = content + x.xpath('string()')\n",
    "        return title[0].text,content"
   ]
  },
  {
   "cell_type": "markdown",
   "metadata": {},
   "source": [
    "4 判断是否分页"
   ]
  },
  {
   "cell_type": "code",
   "execution_count": null,
   "metadata": {
    "collapsed": true
   },
   "outputs": [],
   "source": [
    "def isMultiPaged(url):    \n",
    "    html_page1 = common.download(url % 1)\n",
    "    tree = etree.HTML(html_page1)    \n",
    "    xp1 = tree.xpath(\"/html/body/div[1]/div[1]/div[1]/div[2]/*\")\n",
    "    xp1 = \",\".join(x.text for x in xp1)\n",
    "    html_page2 = common.download(url % 2)\n",
    "    if html_page2 == None:\n",
    "        return False\n",
    "    tree = etree.HTML(html_page2)    \n",
    "    xp2 = tree.xpath(\"/html/body/div[1]/div[1]/div[1]/div[2]/*\")\n",
    "    xp2 = \",\".join(x.text for x in xp2)\n",
    "    if xp1 == xp2:\n",
    "        return False\n",
    "    else:\n",
    "        return True"
   ]
  },
  {
   "cell_type": "markdown",
   "metadata": {},
   "source": [
    "5 获取所有分页数"
   ]
  },
  {
   "cell_type": "code",
   "execution_count": null,
   "metadata": {
    "collapsed": true
   },
   "outputs": [],
   "source": [
    "def getNumberOfPages(url):\n",
    "    count = 1\n",
    "    flag = True\n",
    "    if (isMultiPaged(url)):\n",
    "        while flag:\n",
    "            url= url % count\n",
    "            print \"url: %s\" % url\n",
    "            count += 1\n",
    "            html = common.download(url)\n",
    "            if html==None:\n",
    "                break        \n",
    "    return count   "
   ]
  }
 ],
 "metadata": {
  "kernelspec": {
   "display_name": "Python 2",
   "language": "python",
   "name": "python2"
  },
  "language_info": {
   "codemirror_mode": {
    "name": "ipython",
    "version": 2
   },
   "file_extension": ".py",
   "mimetype": "text/x-python",
   "name": "python",
   "nbconvert_exporter": "python",
   "pygments_lexer": "ipython2",
   "version": "2.7.13"
  }
 },
 "nbformat": 4,
 "nbformat_minor": 2
}
