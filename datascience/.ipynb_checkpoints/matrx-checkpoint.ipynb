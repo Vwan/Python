{
 "cells": [
  {
   "cell_type": "code",
   "execution_count": 4,
   "metadata": {
    "collapsed": false
   },
   "outputs": [
    {
     "data": {
      "text/plain": [
       "array([[ 0.21230549,  0.47250883,  0.67737811,  0.7733857 ],\n",
       "       [ 0.89948713,  0.8017691 ,  0.64909336,  0.0045021 ],\n",
       "       [ 0.15178884,  0.15656359,  0.00891874,  0.74700976],\n",
       "       [ 0.4757768 ,  0.34234022,  0.06753196,  0.82210447]])"
      ]
     },
     "execution_count": 4,
     "metadata": {},
     "output_type": "execute_result"
    }
   ],
   "source": [
    "import numpy as np\n",
    "x=np.random.rand(4,4)\n",
    "x"
   ]
  },
  {
   "cell_type": "code",
   "execution_count": 7,
   "metadata": {
    "collapsed": false
   },
   "outputs": [
    {
     "data": {
      "text/plain": [
       "matrix([[ 0.21230549,  0.47250883,  0.67737811,  0.7733857 ],\n",
       "        [ 0.89948713,  0.8017691 ,  0.64909336,  0.0045021 ],\n",
       "        [ 0.15178884,  0.15656359,  0.00891874,  0.74700976],\n",
       "        [ 0.4757768 ,  0.34234022,  0.06753196,  0.82210447]])"
      ]
     },
     "execution_count": 7,
     "metadata": {},
     "output_type": "execute_result"
    }
   ],
   "source": [
    "matrixx = np.mat(x)\n",
    "matrixx"
   ]
  },
  {
   "cell_type": "code",
   "execution_count": 9,
   "metadata": {
    "collapsed": false
   },
   "outputs": [
    {
     "data": {
      "text/plain": [
       "matrix([[  3.12263742,  -4.65879254, -21.07832382,  16.24086155],\n",
       "        [ -7.2303699 ,   9.88743915,  37.67532262, -27.48614577],\n",
       "        [  4.5981002 ,  -4.20906752, -17.31325479,  11.42922264],\n",
       "        [  0.82598906,  -1.07538175,  -2.0678672 ,   2.3242184 ]])"
      ]
     },
     "execution_count": 9,
     "metadata": {},
     "output_type": "execute_result"
    }
   ],
   "source": [
    "inversex = matrixx.I\n",
    "inversex"
   ]
  },
  {
   "cell_type": "code",
   "execution_count": 10,
   "metadata": {
    "collapsed": false
   },
   "outputs": [
    {
     "data": {
      "text/plain": [
       "matrix([[  1.00000000e+00,  -4.44089210e-16,   0.00000000e+00,\n",
       "           0.00000000e+00],\n",
       "        [  0.00000000e+00,   1.00000000e+00,   0.00000000e+00,\n",
       "           3.55271368e-15],\n",
       "        [  2.22044605e-16,   1.11022302e-16,   1.00000000e+00,\n",
       "           4.44089210e-16],\n",
       "        [  4.44089210e-16,   4.44089210e-16,   0.00000000e+00,\n",
       "           1.00000000e+00]])"
      ]
     },
     "execution_count": 10,
     "metadata": {},
     "output_type": "execute_result"
    }
   ],
   "source": [
    "matrixx * inversex"
   ]
  },
  {
   "cell_type": "code",
   "execution_count": 12,
   "metadata": {
    "collapsed": false
   },
   "outputs": [
    {
     "data": {
      "text/plain": [
       "array([[ 1.,  0.,  0.,  0.],\n",
       "       [ 0.,  1.,  0.,  0.],\n",
       "       [ 0.,  0.,  1.,  0.],\n",
       "       [ 0.,  0.,  0.,  1.]])"
      ]
     },
     "execution_count": 12,
     "metadata": {},
     "output_type": "execute_result"
    }
   ],
   "source": [
    "np.eye(4)"
   ]
  },
  {
   "cell_type": "code",
   "execution_count": null,
   "metadata": {
    "collapsed": true
   },
   "outputs": [],
   "source": []
  }
 ],
 "metadata": {
  "kernelspec": {
   "display_name": "Python 2",
   "language": "python",
   "name": "python2"
  },
  "language_info": {
   "codemirror_mode": {
    "name": "ipython",
    "version": 2
   },
   "file_extension": ".py",
   "mimetype": "text/x-python",
   "name": "python",
   "nbconvert_exporter": "python",
   "pygments_lexer": "ipython2",
   "version": "2.7.13"
  }
 },
 "nbformat": 4,
 "nbformat_minor": 2
}
